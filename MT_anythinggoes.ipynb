{
  "nbformat": 4,
  "nbformat_minor": 0,
  "metadata": {
    "colab": {
      "provenance": [],
      "machine_shape": "hm",
      "authorship_tag": "ABX9TyON4Dh0XyUo+B4r5+HXgzS0",
      "include_colab_link": true
    },
    "kernelspec": {
      "name": "python3",
      "display_name": "Python 3"
    },
    "language_info": {
      "name": "python"
    },
    "accelerator": "GPU",
    "gpuClass": "standard"
  },
  "cells": [
    {
      "cell_type": "markdown",
      "metadata": {
        "id": "view-in-github",
        "colab_type": "text"
      },
      "source": [
        "<a href=\"https://colab.research.google.com/github/psriraj17/MachineTranslation/blob/main/MT_anythinggoes.ipynb\" target=\"_parent\"><img src=\"https://colab.research.google.com/assets/colab-badge.svg\" alt=\"Open In Colab\"/></a>"
      ]
    },
    {
      "cell_type": "code",
      "source": [
        "from google.colab import drive\n",
        "drive.mount('/content/drive')\n",
        "%cd /content/drive/'MyDrive'"
      ],
      "metadata": {
        "colab": {
          "base_uri": "https://localhost:8080/"
        },
        "id": "XaL8UBJFWdF_",
        "outputId": "6c541b0c-72ce-4c08-a844-06ea0120fb73"
      },
      "execution_count": 159,
      "outputs": [
        {
          "output_type": "stream",
          "name": "stdout",
          "text": [
            "Drive already mounted at /content/drive; to attempt to forcibly remount, call drive.mount(\"/content/drive\", force_remount=True).\n",
            "/content/drive/MyDrive\n"
          ]
        }
      ]
    },
    {
      "cell_type": "code",
      "execution_count": 160,
      "metadata": {
        "id": "i79JzMk521Sc"
      },
      "outputs": [],
      "source": [
        "import collections\n",
        "from tqdm import tqdm\n",
        "import string\n",
        "import helper\n",
        "import numpy as np\n",
        "#import project_tests as tests\n",
        "from tensorflow import keras\n",
        "from keras.preprocessing.text import Tokenizer\n",
        "from keras_preprocessing.sequence import pad_sequences\n",
        "from keras.models import Model\n",
        "from keras.layers import GRU, Input, Dense, TimeDistributed, Activation, RepeatVector, Bidirectional\n",
        "from keras.layers import Embedding\n",
        "from keras.optimizers import Adam\n",
        "from keras.losses import sparse_categorical_crossentropy\n",
        "from nltk.translate.bleu_score import corpus_bleu , sentence_bleu\n",
        "import re"
      ]
    },
    {
      "cell_type": "code",
      "source": [
        "def load_data(file):\n",
        "    all_data = []\n",
        "    descript = 'Reading ' + file\n",
        "\n",
        "    f = open(file, 'r', encoding='utf-8')\n",
        "    full_text = f.read()\n",
        "\n",
        "    cur_sent = []\n",
        "\n",
        "    for line in tqdm(full_text.split('\\n'), desc=descript):\n",
        "        if line == '<s>':\n",
        "            cur_sent = ''\n",
        "            continue\n",
        "        if line in '()':\n",
        "            continue\n",
        "        if line == '</s>':\n",
        "            all_data.append(cur_sent)\n",
        "            continue\n",
        "        else:\n",
        "            cur_sent += line.lower()\n",
        "            cur_sent += ' '\n",
        "\n",
        "    return all_data\n",
        "\n",
        "\n",
        "#source_data = helper.load_data('/content/drive/MyDrive/Colab Notebooks/train-05/train-source.txt')\n",
        "source_sentences = load_data(\"/content/drive/MyDrive/Colab Notebooks/train-05/train-source.txt\")\n",
        "target_sentences = load_data(\"/content/drive/MyDrive/Colab Notebooks/train-05/train-target.txt\")\n",
        "#taregt_data = helper.load_data('/content/drive/MyDrive/Colab Notebooks/train-05/train-target.txt')\n",
        "\n",
        "\n",
        "print('\\nDataset Loaded',source_sentences[0:10])"
      ],
      "metadata": {
        "id": "vU9IDjT_27f8",
        "colab": {
          "base_uri": "https://localhost:8080/"
        },
        "outputId": "17e165ae-1d20-4a19-9e74-aa0b231b6e7e"
      },
      "execution_count": 161,
      "outputs": [
        {
          "output_type": "stream",
          "name": "stderr",
          "text": [
            "Reading /content/drive/MyDrive/Colab Notebooks/train-05/train-source.txt: 100%|██████████| 925535/925535 [00:00<00:00, 2142340.84it/s]\n",
            "Reading /content/drive/MyDrive/Colab Notebooks/train-05/train-target.txt: 100%|██████████| 910805/910805 [00:00<00:00, 2144501.23it/s]"
          ]
        },
        {
          "output_type": "stream",
          "name": "stdout",
          "text": [
            "\n",
            "Dataset Loaded ['cinnte go leór , thiocfadh dóbhtha bás a fhagháil ar imeall an phuill udaí . ', 'bhí sé follasach go rabh an poll sin ag foscladh ar an fhairrge ar dhóigh éigin , ná líonadh agus thráigheadh an t-uisce ann . ', \"d'fhéadfadh siad bás ' fhagháil ar a bhruach agus na cuirp imtheacht ar an lán mhara amach fríd an phluais . \", 'thiocfadh dóbhtha fosta lámh a chur ina mbás féin , a ghabháil de léim isteach sa pholl ghalach a bhí i n-iarthar an dara taibhlidh - poll mar bhéadh coire de uisce ghalach ann . ', \"' na dhiaidh sin , bhí rud éigin do-chreidte agus leamh in gach teóir de'n bheirt . \", 'nuair a scríobh siad an litir sin bhí siad araon i sláinte mhaith agus tréan bidh aca . ', 'bhí fhios againn i gceart nach rabh díothbhail ar bith ortha , na diomaoite de chuid bonnóg chathail tháinig muid ar an áit taiscthe a bhí aca - scealpach bheag eachar dhá charraic - agus arán agus spólaí de chaoir-fheóil shaillte ann . ', \"b'fhuras a fheiceáil cá dtáinig an chaoir-fheóil . \", 'ar urlár na h-uaimhe bhí cnámha caorach ar gearradh an fheóil anuas díobhtha . ', \"séard a b'éigean do'n chaoraigh a ghabháil le beinn agus tuitim fríd an sceilp anuas san uaimh . \"]\n"
          ]
        },
        {
          "output_type": "stream",
          "name": "stderr",
          "text": [
            "\n"
          ]
        }
      ]
    },
    {
      "cell_type": "code",
      "source": [
        "source_words_counter = collections.Counter([word for sentence in source_sentences for word in sentence.split()])\n",
        "target_words_counter = collections.Counter([word for sentence in target_sentences for word in sentence.split()])\n",
        "\n",
        "print('{} Source words.'.format(len([word for sentence in source_sentences for word in sentence])))\n",
        "print('{} unique Source words.'.format(len(source_words_counter)))\n",
        "print('10 Most common words in the Source dataset:')\n",
        "print('\"' + '\" \"'.join(list(zip(*source_words_counter.most_common(10)))[0]) + '\"')\n",
        "print()\n",
        "print('{} Target words.'.format(len([word for sentence in target_sentences for word in sentence])))\n",
        "print('{} unique Target words.'.format(len(target_words_counter)))\n",
        "print('10 Most common words in the Target dataset:')                \n",
        "print('\"' + '\" \"'.join(list(zip(*target_words_counter.most_common(10)))[0]) + '\"')"
      ],
      "metadata": {
        "id": "EKB0FQYn27dn",
        "colab": {
          "base_uri": "https://localhost:8080/"
        },
        "outputId": "7481d8e9-254e-458d-a7be-2fe3a6ce709a"
      },
      "execution_count": 162,
      "outputs": [
        {
          "output_type": "stream",
          "name": "stdout",
          "text": [
            "4127703 Source words.\n",
            "31035 unique Source words.\n",
            "10 Most common words in the Source dataset:\n",
            "\".\" \"a\" \"an\" \",\" \"agus\" \"ar\" \"\"\" \"bhí\" \"na\" \"sé\"\n",
            "\n",
            "3939531 Target words.\n",
            "25735 unique Target words.\n",
            "10 Most common words in the Target dataset:\n",
            "\".\" \"a\" \"an\" \",\" \"agus\" \"ar\" \"bhí\" \"\"\" \"ag\" \"sé\"\n"
          ]
        }
      ]
    },
    {
      "cell_type": "code",
      "source": [
        "def tokenize(x):\n",
        "    \n",
        "    # TODO: Implement\n",
        "    x_tk = Tokenizer(char_level = False)\n",
        "    x_tk.fit_on_texts(x)\n",
        "    return x_tk.texts_to_sequences(x), x_tk"
      ],
      "metadata": {
        "id": "JaXAsVTF27bh"
      },
      "execution_count": 163,
      "outputs": []
    },
    {
      "cell_type": "code",
      "source": [
        "def pad(x, length=None):\n",
        "    \n",
        "    if length is None:\n",
        "        length = max([len(sentence) for sentence in x])\n",
        "    return pad_sequences(x, maxlen = length, padding = 'post')"
      ],
      "metadata": {
        "id": "z06aop1o27Zc"
      },
      "execution_count": 164,
      "outputs": []
    },
    {
      "cell_type": "code",
      "source": [
        "def preprocess(x, y):\n",
        "    \n",
        "    preprocess_x, x_tk = tokenize(x)\n",
        "    preprocess_y, y_tk = tokenize(y)\n",
        "\n",
        "    preprocess_x = pad(preprocess_x)\n",
        "    preprocess_y = pad(preprocess_y)\n",
        "\n",
        "    # Keras's sparse_categorical_crossentropy function requires the labels to be in 3 dimensions\n",
        "    preprocess_y = preprocess_y.reshape(*preprocess_y.shape, 1)\n",
        "\n",
        "    return preprocess_x, preprocess_y, x_tk, y_tk\n",
        "\n",
        "preproc_source_sentences, preproc_target_sentences, source_tokenizer, target_tokenizer =\\\n",
        "    preprocess(source_sentences, target_sentences)\n",
        "    \n",
        "max_source_sequence_length = preproc_source_sentences.shape[1]\n",
        "max_target_sequence_length = preproc_target_sentences.shape[1]\n",
        "source_vocab_size = len(source_tokenizer.word_index)\n",
        "target_vocab_size = len(target_tokenizer.word_index)\n",
        "\n",
        "print('Data Preprocessed')\n",
        "print(\"Max source sentence length:\", max_source_sequence_length)\n",
        "print(\"Max target sentence length:\", max_target_sequence_length)\n",
        "print(\"source vocabulary size:\", source_vocab_size)\n",
        "print(\"target vocabulary size:\", target_vocab_size)\n"
      ],
      "metadata": {
        "id": "rUQ13zxX27XG",
        "colab": {
          "base_uri": "https://localhost:8080/"
        },
        "outputId": "fb66f392-ad97-4665-e44c-60823da7d6ee"
      },
      "execution_count": 165,
      "outputs": [
        {
          "output_type": "stream",
          "name": "stdout",
          "text": [
            "Data Preprocessed\n",
            "Max source sentence length: 215\n",
            "Max target sentence length: 213\n",
            "source vocabulary size: 27496\n",
            "target vocabulary size: 24967\n"
          ]
        }
      ]
    },
    {
      "cell_type": "code",
      "source": [
        "def logits_to_text(logits, tokenizer):\n",
        "    index_to_words = {id: word for word, id in tokenizer.word_index.items()}\n",
        "    index_to_words[0] = ''\n",
        "\n",
        "    return ' '.join([index_to_words[prediction] for prediction in np.argmax(logits, 1)])\n",
        "\n",
        "print('`logits_to_text` function loaded.')"
      ],
      "metadata": {
        "id": "FNOCFSpt27Uw",
        "colab": {
          "base_uri": "https://localhost:8080/"
        },
        "outputId": "adc2db82-0173-4bd9-8c83-7e4e74b83d70"
      },
      "execution_count": 166,
      "outputs": [
        {
          "output_type": "stream",
          "name": "stdout",
          "text": [
            "`logits_to_text` function loaded.\n"
          ]
        }
      ]
    },
    {
      "cell_type": "code",
      "source": [
        "def model_final(input_shape, output_sequence_length, source_vocab_size, target_vocab_size):\n",
        "  \n",
        "\n",
        "    model = keras.models.Sequential()\n",
        "    model.add(Embedding(input_dim=source_vocab_size,output_dim=128,input_length=input_shape[1]))\n",
        "    model.add(Bidirectional(GRU(256,return_sequences=False)))\n",
        "    model.add(RepeatVector(output_sequence_length))\n",
        "    model.add(Bidirectional(GRU(256,return_sequences=True)))\n",
        "    model.add(TimeDistributed(Dense(target_vocab_size,activation='softmax')))\n",
        "    learning_rate = 0.001\n",
        "    \n",
        "    model.compile(loss = sparse_categorical_crossentropy, \n",
        "                 optimizer = Adam(learning_rate), \n",
        "                 metrics = ['accuracy'])\n",
        "    \n",
        "    return model\n",
        "\n",
        "print('Final Model Loaded')"
      ],
      "metadata": {
        "id": "yrzi3AY_27SJ",
        "colab": {
          "base_uri": "https://localhost:8080/"
        },
        "outputId": "ba82efe6-bdd1-4e88-997d-4b337192b734"
      },
      "execution_count": 167,
      "outputs": [
        {
          "output_type": "stream",
          "name": "stdout",
          "text": [
            "Final Model Loaded\n"
          ]
        }
      ]
    },
    {
      "cell_type": "code",
      "source": [
        "def final_predictions(x, y, x_tk, y_tk):\n",
        "  \n",
        "    \n",
        "    tmp_X = preproc_source_sentences\n",
        "    model = model_final(tmp_X.shape,\n",
        "                        preproc_target_sentences.shape[1],\n",
        "                        len(source_tokenizer.word_index)+1,\n",
        "                        len(target_tokenizer.word_index)+1)\n",
        "    \n",
        "    model.fit(tmp_X, preproc_target_sentences, batch_size = 100, epochs = 10, validation_split = 0.2)\n",
        " \n",
        "    return model"
      ],
      "metadata": {
        "id": "f1L_f-4A27Nu"
      },
      "execution_count": 168,
      "outputs": []
    },
    {
      "cell_type": "code",
      "source": [
        "model = final_predictions(preproc_source_sentences, preproc_target_sentences, source_tokenizer, target_tokenizer)"
      ],
      "metadata": {
        "colab": {
          "base_uri": "https://localhost:8080/"
        },
        "id": "s3lOX2QFAi5g",
        "outputId": "c0a5dce2-cdcc-41c8-f451-a59d2e6dd9cd"
      },
      "execution_count": 169,
      "outputs": [
        {
          "output_type": "stream",
          "name": "stdout",
          "text": [
            "Epoch 1/10\n",
            "362/362 [==============================] - 396s 1s/step - loss: 0.8297 - accuracy: 0.9205 - val_loss: 0.4951 - val_accuracy: 0.9321\n",
            "Epoch 2/10\n",
            "362/362 [==============================] - 388s 1s/step - loss: 0.5381 - accuracy: 0.9258 - val_loss: 0.4693 - val_accuracy: 0.9341\n",
            "Epoch 3/10\n",
            "362/362 [==============================] - 388s 1s/step - loss: 0.5290 - accuracy: 0.9267 - val_loss: 0.4707 - val_accuracy: 0.9351\n",
            "Epoch 4/10\n",
            "362/362 [==============================] - 388s 1s/step - loss: 0.5262 - accuracy: 0.9270 - val_loss: 0.4688 - val_accuracy: 0.9349\n",
            "Epoch 5/10\n",
            "362/362 [==============================] - 386s 1s/step - loss: 0.5240 - accuracy: 0.9272 - val_loss: 0.4680 - val_accuracy: 0.9354\n",
            "Epoch 6/10\n",
            "362/362 [==============================] - 387s 1s/step - loss: 0.5220 - accuracy: 0.9274 - val_loss: 0.4705 - val_accuracy: 0.9356\n",
            "Epoch 7/10\n",
            "362/362 [==============================] - 387s 1s/step - loss: 0.5180 - accuracy: 0.9277 - val_loss: 0.4592 - val_accuracy: 0.9358\n",
            "Epoch 8/10\n",
            "362/362 [==============================] - 387s 1s/step - loss: 0.5138 - accuracy: 0.9278 - val_loss: 0.4592 - val_accuracy: 0.9358\n",
            "Epoch 9/10\n",
            "362/362 [==============================] - 387s 1s/step - loss: 0.5107 - accuracy: 0.9279 - val_loss: 0.4554 - val_accuracy: 0.9360\n",
            "Epoch 10/10\n",
            "362/362 [==============================] - 388s 1s/step - loss: 0.5091 - accuracy: 0.9280 - val_loss: 0.4559 - val_accuracy: 0.9362\n"
          ]
        }
      ]
    },
    {
      "cell_type": "code",
      "source": [
        "def simple_fixes(s):\n",
        "  s = s.replace('sg','sc')\n",
        "  s = s.replace('sd','st')\n",
        "  s = s.replace('sb','sp')\n",
        "  s = s.replace('eó','eo')\n",
        "  s = s.replace('thch','ch')\n",
        "  s = re.sub(r'll([rst])', r'l\\1', s)\n",
        "  return s"
      ],
      "metadata": {
        "id": "WwUDWfv6xwg0"
      },
      "execution_count": 171,
      "outputs": []
    },
    {
      "cell_type": "code",
      "source": [
        "def anything_goes_translation(sentence , test_source_tokenizer, test_target_tokenizer):\n",
        "  #sentence = sentence.translate(str.maketrans('', '', string.punctuation))\n",
        "  #print(\"\\n\",sentence)\n",
        "  #sentence = [test_source_tokenizer.word_index[word] for word in sentence.split()]\n",
        "  sentence = pad_sequences([sentence], maxlen=preproc_source_sentences.shape[-1], padding='post')\n",
        "  predictions = model.predict(sentence, len(sentence))\n",
        "  \n",
        "  y_id_to_word = {value: key for key, value in test_target_tokenizer.word_index.items()}\n",
        "  y_id_to_word[0] = ''\n",
        "  \n",
        "  source_sent = (' '.join([y_id_to_word[np.argmax(x)] for x in predictions[0]]))\n",
        "  #print(\"source sentences\",source_sent)\n",
        "  return [simple_fixes(s) for s in source_sent] "
      ],
      "metadata": {
        "id": "_lewlWROx0Eq"
      },
      "execution_count": 172,
      "outputs": []
    },
    {
      "cell_type": "code",
      "source": [
        "testsource = load_data(\"/content/drive/MyDrive/Colab Notebooks/test-05/test-source.txt\")\n",
        "testtarget = load_data('/content/drive/MyDrive/Colab Notebooks/test-05/test-target.txt')\n",
        "\n",
        "test_source_sentences , test_source_tokenizer = tokenize(testsource)\n",
        "test_target_sentences , test_target_tokenizer = tokenize(testtarget)\n",
        "\n",
        "anything_goes_hypotheses = []\n",
        "for sentence in test_source_sentences[0:3]:\n",
        "  anything_goes_hypotheses.append(anything_goes_translation(sentence,test_source_tokenizer, test_target_tokenizer))\n",
        "print(test_target_sentences[0:5])\n",
        "print(test_source_sentences[0:5])\n",
        "#return (corpus_bleu(testtarget,anything_goes_hypotheses))"
      ],
      "metadata": {
        "colab": {
          "base_uri": "https://localhost:8080/"
        },
        "id": "Vp8CyRTXchM8",
        "outputId": "e13dfb7f-396b-4058-d4f3-13b6a1f35f3e"
      },
      "execution_count": 181,
      "outputs": [
        {
          "output_type": "stream",
          "name": "stderr",
          "text": [
            "Reading /content/drive/MyDrive/Colab Notebooks/test-05/test-source.txt: 100%|██████████| 24898/24898 [00:00<00:00, 1783813.28it/s]\n",
            "Reading /content/drive/MyDrive/Colab Notebooks/test-05/test-target.txt: 100%|██████████| 24562/24562 [00:00<00:00, 1847172.32it/s]\n"
          ]
        },
        {
          "output_type": "stream",
          "name": "stdout",
          "text": [
            "1/1 [==============================] - 0s 41ms/step\n",
            "1/1 [==============================] - 0s 41ms/step\n",
            "1/1 [==============================] - 0s 40ms/step\n",
            "[[100, 401, 73, 1374, 17, 190, 48, 10, 552], [904, 463, 1, 5, 36, 12, 1375, 1, 905, 22, 1, 146, 2, 251, 31, 205], [2, 1376, 32, 464, 56, 45, 73, 293, 906, 8, 465, 14, 3, 1, 907, 106, 1, 1377, 19, 13, 134, 18, 685], [147, 686, 88, 46, 9, 1, 553, 3, 15, 252, 3, 74, 687, 2, 466, 14, 85, 467, 9], [5, 9, 8, 113, 23, 908, 3, 22, 1, 5, 33, 6, 128, 554, 5, 9, 206, 688, 3, 1378, 3, 358, 9, 2, 80, 234, 689, 134, 12, 1379, 555, 8, 104, 8, 909, 30, 235, 1380, 236, 3, 294, 59, 20, 17, 80, 237, 35, 42, 2, 268]]\n",
            "[[107, 404, 69, 1420, 17, 192, 356, 6, 84, 558], [357, 559, 1, 5, 33, 12, 1421, 1, 920, 21, 1, 157, 2, 251, 30, 208], [2, 921, 1, 35, 470, 57, 54, 69, 291, 922, 9, 471, 19, 3, 1, 1422, 38, 1, 1423, 18, 13, 136, 15, 560], [143, 695, 91, 47, 10, 1, 696, 3, 14, 252, 3, 74, 923, 2, 472, 19, 76, 561, 10], [5, 10, 9, 121, 12, 23, 1, 924, 3, 21, 1, 5, 29, 8, 112, 1424, 5, 10, 209, 697, 3, 1425, 3, 358, 10, 2, 77, 1, 925, 136, 12, 1426, 562, 9, 104, 9, 926, 44, 238, 1427, 253, 3, 292, 58, 20, 17, 77, 1428, 32, 42, 2, 254]]\n"
          ]
        }
      ]
    },
    {
      "cell_type": "code",
      "source": [
        "def evaluate():\n",
        "  testsource = load_data(\"/content/drive/MyDrive/Colab Notebooks/test-05/test-source.txt\")\n",
        "  testtarget = load_data('/content/drive/MyDrive/Colab Notebooks/test-05/test-target.txt')\n",
        "\n",
        "  test_source_sentences , test_source_tokenizer = tokenize(testsource)\n",
        "  test_target_sentences , test_target_tokenizer = tokenize(testtarget)\n",
        "\n",
        "  anything_goes_hypotheses = []\n",
        "  for sentence in test_source_sentences[0:3]:\n",
        "    anything_goes_hypotheses.append(anything_goes_translation(sentence,test_source_tokenizer, test_target_tokenizer))\n",
        "  print(anything_goes_hypotheses)\n",
        "  return (corpus_bleu(testtarget,anything_goes_hypotheses))"
      ],
      "metadata": {
        "id": "UFx5s6zG27LZ"
      },
      "execution_count": 173,
      "outputs": []
    },
    {
      "cell_type": "code",
      "source": [],
      "metadata": {
        "id": "Aek94sCCcZcF"
      },
      "execution_count": null,
      "outputs": []
    },
    {
      "cell_type": "code",
      "source": [
        "evaluate()"
      ],
      "metadata": {
        "id": "GkBR9q0Yz6Td"
      },
      "execution_count": null,
      "outputs": []
    },
    {
      "cell_type": "code",
      "source": [
        "def simple_model(input_shape, output_sequence_length, english_vocab_size, french_vocab_size):\n",
        "    \"\"\"\n",
        "    Build and train a basic RNN on x and y\n",
        "    :param input_shape: Tuple of input shape\n",
        "    :param output_sequence_length: Length of output sequence\n",
        "    :param english_vocab_size: Number of unique English words in the dataset\n",
        "    :param french_vocab_size: Number of unique French words in the dataset\n",
        "    :return: Keras model built, but not trained\n",
        "    \"\"\"\n",
        "    # TODO: Build the layers\n",
        "    learning_rate = 1e-3\n",
        "    input_seq = Input(input_shape[1:])\n",
        "    rnn = GRU(64, return_sequences = True)(input_seq)\n",
        "    logits = TimeDistributed(Dense(french_vocab_size))(rnn)\n",
        "    model = Model(input_seq, Activation('softmax')(logits))\n",
        "    model.compile(loss = sparse_categorical_crossentropy, \n",
        "                 optimizer = Adam(learning_rate), \n",
        "                 metrics = ['accuracy'])\n",
        "    \n",
        "    return model\n",
        "\n",
        "\n",
        "# Reshaping the input to work with a basic RNN\n",
        "tmp_x = pad(preproc_source_sentences, max_target_sequence_length)\n",
        "tmp_x = tmp_x.reshape((-1, preproc_target_sentences.shape[-2], 1))\n",
        "\n",
        "# Train the neural network\n",
        "simple_rnn_model = simple_model(\n",
        "    tmp_x.shape,\n",
        "    max_target_sequence_length,\n",
        "    source_vocab_size,\n",
        "    target_vocab_size)\n",
        "simple_rnn_model.fit(tmp_x, preproc_target_sentences, batch_size=100, epochs=10, validation_split=0.2)\n",
        "\n",
        "# Print prediction(s)\n",
        "print(logits_to_text(simple_rnn_model.predict(tmp_x[:1])[0], target_tokenizer))\n"
      ],
      "metadata": {
        "colab": {
          "base_uri": "https://localhost:8080/"
        },
        "id": "bPlKHWuQersr",
        "outputId": "2805a3ea-11a9-4b95-dda5-38020b68b547"
      },
      "execution_count": 184,
      "outputs": [
        {
          "output_type": "stream",
          "name": "stdout",
          "text": [
            "Epoch 1/10\n",
            "362/362 [==============================] - 132s 361ms/step - loss: 1.8354 - accuracy: 0.9243 - val_loss: nan - val_accuracy: 0.9342\n",
            "Epoch 2/10\n",
            "362/362 [==============================] - 130s 358ms/step - loss: 0.5299 - accuracy: 0.9262 - val_loss: nan - val_accuracy: 0.9344\n",
            "Epoch 3/10\n",
            "362/362 [==============================] - 130s 358ms/step - loss: 0.5217 - accuracy: 0.9272 - val_loss: nan - val_accuracy: 0.9356\n",
            "Epoch 4/10\n",
            "362/362 [==============================] - 130s 359ms/step - loss: 0.5169 - accuracy: 0.9283 - val_loss: nan - val_accuracy: 0.9359\n",
            "Epoch 5/10\n",
            "362/362 [==============================] - 130s 359ms/step - loss: 0.5131 - accuracy: 0.9290 - val_loss: nan - val_accuracy: 0.9365\n",
            "Epoch 6/10\n",
            "362/362 [==============================] - 130s 359ms/step - loss: 0.5098 - accuracy: 0.9294 - val_loss: nan - val_accuracy: 0.9364\n",
            "Epoch 7/10\n",
            "362/362 [==============================] - 130s 359ms/step - loss: 0.5070 - accuracy: 0.9294 - val_loss: nan - val_accuracy: 0.9365\n",
            "Epoch 8/10\n",
            "362/362 [==============================] - 130s 359ms/step - loss: 0.5046 - accuracy: 0.9295 - val_loss: nan - val_accuracy: 0.9366\n",
            "Epoch 9/10\n",
            "362/362 [==============================] - 130s 359ms/step - loss: 0.5023 - accuracy: 0.9296 - val_loss: nan - val_accuracy: 0.9367\n",
            "Epoch 10/10\n",
            "362/362 [==============================] - 130s 359ms/step - loss: 0.5000 - accuracy: 0.9298 - val_loss: nan - val_accuracy: 0.9368\n",
            "1/1 [==============================] - 0s 297ms/step\n",
            "bhí an an an a a an an an an an                                                                                                                                                                                                          \n"
          ]
        }
      ]
    }
  ]
}